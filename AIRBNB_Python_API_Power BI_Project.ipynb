{
 "cells": [
  {
   "cell_type": "markdown",
   "id": "64e86c5d",
   "metadata": {},
   "source": [
    "# Project Name - AIRBNB_Python_Power BI Data Visualization Project"
   ]
  },
  {
   "cell_type": "markdown",
   "id": "5c341a0e",
   "metadata": {},
   "source": [
    "### Project Type - EDA with Python, Power BI Prep\n",
    "### Contribution - Individual\n",
    "### Name - Ayushi Jaiswal"
   ]
  },
  {
   "cell_type": "markdown",
   "id": "4cc835d1",
   "metadata": {},
   "source": [
    "## Project Summary -"
   ]
  },
  {
   "cell_type": "markdown",
   "id": "7f41bbee",
   "metadata": {},
   "source": [
    "For this EDA project, we have chosen the \"Airbnb Listings Data\" dataset from 2 major cities: Chicago and New Orleans. This dataset provides a comprehensive snapshot of various attributes related to Airbnb listings, such as property type, neighbourhood, pricing, availability, and more. The dataset is ideal for conducting an in-depth exploration of the local Airbnb market and deriving actionable insights.\n",
    "\n",
    "**Steps to proceed with the dashboard:**\n",
    "\n",
    "**Data Cleaning**\n",
    "\n",
    "Begin by addressing the disorder and inconsistency within the dataset. Utilise Jupyter Notebook and Power BI Prep to systematically cleanse the data, rectifying discrepancies, eliminating duplicates, and standardising formats.\n",
    "\n",
    "\n",
    "**Data Transformation**\n",
    "\n",
    "Generate supplementary columns by utilising pre-existing categorical data. These columns will be derived from extensive descriptive text, which, in its original form, proved arduous to comprehend and unsuitable for visualization purposes. The extra columns that we created gave a much clear sense of how to approach and make an effective visualization.\n",
    "\n",
    "**Power BI**\n",
    "\n",
    "Employ Power BI Prep to leverage its distinctive \"Group and Replace\" feature. Under the column denoted as Neighbourhood there are instances where identical entities are variably represented due to disparities in letter casing, spelling variations, or phonetic similarity. The \"Group and Replace\" algorithm inherent to power BI Prep proved instrumental in mitigating this issue."
   ]
  },
  {
   "cell_type": "markdown",
   "id": "88365a06",
   "metadata": {},
   "source": [
    "# **GitHub Link -**"
   ]
  },
  {
   "cell_type": "markdown",
   "id": "48925dbc",
   "metadata": {},
   "source": [
    "https://github.com/Ayushi28-tech/AIRBNB_Python_Power-BI-Data-Visualization-Project"
   ]
  },
  {
   "cell_type": "markdown",
   "id": "b611ae61",
   "metadata": {},
   "source": [
    "## Problem Statement"
   ]
  },
  {
   "cell_type": "markdown",
   "id": "1a940fa4",
   "metadata": {},
   "source": [
    "In the context of Airbnb operations, how can the utilisation of Python, Power BI facilitate a comprehensive comparative examination between Chicago and New Orleans, two diverse urban environments?\n",
    "\n",
    "This inquiry seeks to leverage Power BI visual analytics capabilities to uncover and illustrate the shared attributes, disparities, and distinctive patterns inherent to Airbnb's presence in these cities, thus elevating the depth and insightfulness of the study."
   ]
  },
  {
   "cell_type": "markdown",
   "id": "51966482",
   "metadata": {},
   "source": [
    "## Let's Begin !"
   ]
  },
  {
   "cell_type": "markdown",
   "id": "d69d2089",
   "metadata": {},
   "source": [
    "## **1. Data Extraction & Initial Exploration**"
   ]
  },
  {
   "cell_type": "code",
   "execution_count": 1,
   "id": "ff2f2264",
   "metadata": {},
   "outputs": [],
   "source": [
    "import pandas as pd"
   ]
  },
  {
   "cell_type": "markdown",
   "id": "cbb265ba",
   "metadata": {},
   "source": [
    "### Dataset Loading"
   ]
  },
  {
   "cell_type": "code",
   "execution_count": 3,
   "id": "18f1de17",
   "metadata": {},
   "outputs": [],
   "source": [
    "# Load both datasets\n",
    "Chicago_df = pd.read_csv(\"listings.csv\")\n",
    "New_Orleans_df = pd.read_csv(\"listings (1).csv\")"
   ]
  },
  {
   "cell_type": "markdown",
   "id": "9f6973a5",
   "metadata": {},
   "source": [
    "### Dataset First View"
   ]
  },
  {
   "cell_type": "code",
   "execution_count": 4,
   "id": "38d501d6",
   "metadata": {},
   "outputs": [
    {
     "data": {
      "text/html": [
       "<div>\n",
       "<style scoped>\n",
       "    .dataframe tbody tr th:only-of-type {\n",
       "        vertical-align: middle;\n",
       "    }\n",
       "\n",
       "    .dataframe tbody tr th {\n",
       "        vertical-align: top;\n",
       "    }\n",
       "\n",
       "    .dataframe thead th {\n",
       "        text-align: right;\n",
       "    }\n",
       "</style>\n",
       "<table border=\"1\" class=\"dataframe\">\n",
       "  <thead>\n",
       "    <tr style=\"text-align: right;\">\n",
       "      <th></th>\n",
       "      <th>id</th>\n",
       "      <th>name</th>\n",
       "      <th>host_id</th>\n",
       "      <th>host_name</th>\n",
       "      <th>neighbourhood_group</th>\n",
       "      <th>neighbourhood</th>\n",
       "      <th>latitude</th>\n",
       "      <th>longitude</th>\n",
       "      <th>room_type</th>\n",
       "      <th>price</th>\n",
       "      <th>minimum_nights</th>\n",
       "      <th>number_of_reviews</th>\n",
       "      <th>last_review</th>\n",
       "      <th>reviews_per_month</th>\n",
       "      <th>calculated_host_listings_count</th>\n",
       "      <th>availability_365</th>\n",
       "      <th>number_of_reviews_ltm</th>\n",
       "      <th>license</th>\n",
       "    </tr>\n",
       "  </thead>\n",
       "  <tbody>\n",
       "    <tr>\n",
       "      <th>0</th>\n",
       "      <td>19091</td>\n",
       "      <td>Fully Furnished Cozy Apartment</td>\n",
       "      <td>72880</td>\n",
       "      <td>John</td>\n",
       "      <td>NaN</td>\n",
       "      <td>Leonidas</td>\n",
       "      <td>29.96100</td>\n",
       "      <td>-90.11950</td>\n",
       "      <td>Entire home/apt</td>\n",
       "      <td>61.0</td>\n",
       "      <td>30</td>\n",
       "      <td>503</td>\n",
       "      <td>2023-11-06</td>\n",
       "      <td>2.78</td>\n",
       "      <td>1</td>\n",
       "      <td>329</td>\n",
       "      <td>0</td>\n",
       "      <td>22-RSTR-14107, 22-OSTR-14105</td>\n",
       "    </tr>\n",
       "    <tr>\n",
       "      <th>1</th>\n",
       "      <td>71624</td>\n",
       "      <td>Ravenwood Manor (Historic Bywater)</td>\n",
       "      <td>367223</td>\n",
       "      <td>Susan</td>\n",
       "      <td>NaN</td>\n",
       "      <td>Bywater</td>\n",
       "      <td>29.96153</td>\n",
       "      <td>-90.04364</td>\n",
       "      <td>Entire home/apt</td>\n",
       "      <td>167.0</td>\n",
       "      <td>30</td>\n",
       "      <td>313</td>\n",
       "      <td>2025-02-02</td>\n",
       "      <td>1.83</td>\n",
       "      <td>1</td>\n",
       "      <td>342</td>\n",
       "      <td>15</td>\n",
       "      <td>21-RSTR-18609, 22-OSTR-20720</td>\n",
       "    </tr>\n",
       "    <tr>\n",
       "      <th>2</th>\n",
       "      <td>74498</td>\n",
       "      <td>Maison Marais 1</td>\n",
       "      <td>391462</td>\n",
       "      <td>Georgia</td>\n",
       "      <td>NaN</td>\n",
       "      <td>St. Roch</td>\n",
       "      <td>29.96986</td>\n",
       "      <td>-90.05172</td>\n",
       "      <td>Entire home/apt</td>\n",
       "      <td>150.0</td>\n",
       "      <td>3</td>\n",
       "      <td>649</td>\n",
       "      <td>2025-02-23</td>\n",
       "      <td>3.82</td>\n",
       "      <td>3</td>\n",
       "      <td>208</td>\n",
       "      <td>35</td>\n",
       "      <td>23-XSTR-13082</td>\n",
       "    </tr>\n",
       "    <tr>\n",
       "      <th>3</th>\n",
       "      <td>79536</td>\n",
       "      <td>FeelAtHomeInNewOrleans-PrivateApt</td>\n",
       "      <td>428362</td>\n",
       "      <td>Miriam</td>\n",
       "      <td>NaN</td>\n",
       "      <td>Seventh Ward</td>\n",
       "      <td>29.97803</td>\n",
       "      <td>-90.07450</td>\n",
       "      <td>Entire home/apt</td>\n",
       "      <td>179.0</td>\n",
       "      <td>3</td>\n",
       "      <td>768</td>\n",
       "      <td>2025-03-01</td>\n",
       "      <td>4.56</td>\n",
       "      <td>1</td>\n",
       "      <td>0</td>\n",
       "      <td>59</td>\n",
       "      <td>23-NSTR-15067, 24-OSTR-20882</td>\n",
       "    </tr>\n",
       "    <tr>\n",
       "      <th>4</th>\n",
       "      <td>79609</td>\n",
       "      <td>Bywater's Original &amp; Finest</td>\n",
       "      <td>428909</td>\n",
       "      <td>Stephen</td>\n",
       "      <td>NaN</td>\n",
       "      <td>St. Claude</td>\n",
       "      <td>29.96448</td>\n",
       "      <td>-90.03667</td>\n",
       "      <td>Entire home/apt</td>\n",
       "      <td>136.0</td>\n",
       "      <td>30</td>\n",
       "      <td>505</td>\n",
       "      <td>2024-11-14</td>\n",
       "      <td>2.97</td>\n",
       "      <td>1</td>\n",
       "      <td>341</td>\n",
       "      <td>13</td>\n",
       "      <td>23-ISTR-02823, 23-OSTR-02823</td>\n",
       "    </tr>\n",
       "  </tbody>\n",
       "</table>\n",
       "</div>"
      ],
      "text/plain": [
       "      id                                name  host_id host_name  \\\n",
       "0  19091      Fully Furnished Cozy Apartment    72880      John   \n",
       "1  71624  Ravenwood Manor (Historic Bywater)   367223     Susan   \n",
       "2  74498                     Maison Marais 1   391462   Georgia   \n",
       "3  79536   FeelAtHomeInNewOrleans-PrivateApt   428362    Miriam   \n",
       "4  79609         Bywater's Original & Finest   428909   Stephen   \n",
       "\n",
       "   neighbourhood_group neighbourhood  latitude  longitude        room_type  \\\n",
       "0                  NaN      Leonidas  29.96100  -90.11950  Entire home/apt   \n",
       "1                  NaN       Bywater  29.96153  -90.04364  Entire home/apt   \n",
       "2                  NaN      St. Roch  29.96986  -90.05172  Entire home/apt   \n",
       "3                  NaN  Seventh Ward  29.97803  -90.07450  Entire home/apt   \n",
       "4                  NaN    St. Claude  29.96448  -90.03667  Entire home/apt   \n",
       "\n",
       "   price  minimum_nights  number_of_reviews last_review  reviews_per_month  \\\n",
       "0   61.0              30                503  2023-11-06               2.78   \n",
       "1  167.0              30                313  2025-02-02               1.83   \n",
       "2  150.0               3                649  2025-02-23               3.82   \n",
       "3  179.0               3                768  2025-03-01               4.56   \n",
       "4  136.0              30                505  2024-11-14               2.97   \n",
       "\n",
       "   calculated_host_listings_count  availability_365  number_of_reviews_ltm  \\\n",
       "0                               1               329                      0   \n",
       "1                               1               342                     15   \n",
       "2                               3               208                     35   \n",
       "3                               1                 0                     59   \n",
       "4                               1               341                     13   \n",
       "\n",
       "                        license  \n",
       "0  22-RSTR-14107, 22-OSTR-14105  \n",
       "1  21-RSTR-18609, 22-OSTR-20720  \n",
       "2                 23-XSTR-13082  \n",
       "3  23-NSTR-15067, 24-OSTR-20882  \n",
       "4  23-ISTR-02823, 23-OSTR-02823  "
      ]
     },
     "execution_count": 4,
     "metadata": {},
     "output_type": "execute_result"
    }
   ],
   "source": [
    "# New Orleans Dataset First Look\n",
    "New_Orleans_df.head()"
   ]
  },
  {
   "cell_type": "code",
   "execution_count": 5,
   "id": "5268a464",
   "metadata": {},
   "outputs": [
    {
     "data": {
      "text/html": [
       "<div>\n",
       "<style scoped>\n",
       "    .dataframe tbody tr th:only-of-type {\n",
       "        vertical-align: middle;\n",
       "    }\n",
       "\n",
       "    .dataframe tbody tr th {\n",
       "        vertical-align: top;\n",
       "    }\n",
       "\n",
       "    .dataframe thead th {\n",
       "        text-align: right;\n",
       "    }\n",
       "</style>\n",
       "<table border=\"1\" class=\"dataframe\">\n",
       "  <thead>\n",
       "    <tr style=\"text-align: right;\">\n",
       "      <th></th>\n",
       "      <th>id</th>\n",
       "      <th>name</th>\n",
       "      <th>host_id</th>\n",
       "      <th>host_name</th>\n",
       "      <th>neighbourhood_group</th>\n",
       "      <th>neighbourhood</th>\n",
       "      <th>latitude</th>\n",
       "      <th>longitude</th>\n",
       "      <th>room_type</th>\n",
       "      <th>price</th>\n",
       "      <th>minimum_nights</th>\n",
       "      <th>number_of_reviews</th>\n",
       "      <th>last_review</th>\n",
       "      <th>reviews_per_month</th>\n",
       "      <th>calculated_host_listings_count</th>\n",
       "      <th>availability_365</th>\n",
       "      <th>number_of_reviews_ltm</th>\n",
       "      <th>license</th>\n",
       "    </tr>\n",
       "  </thead>\n",
       "  <tbody>\n",
       "    <tr>\n",
       "      <th>0</th>\n",
       "      <td>2384</td>\n",
       "      <td>Hyde Park - Walk to University of Chicago</td>\n",
       "      <td>2613</td>\n",
       "      <td>Rebecca</td>\n",
       "      <td>NaN</td>\n",
       "      <td>Hyde Park</td>\n",
       "      <td>41.78790</td>\n",
       "      <td>-87.58780</td>\n",
       "      <td>Private room</td>\n",
       "      <td>125.0</td>\n",
       "      <td>3</td>\n",
       "      <td>250</td>\n",
       "      <td>2024-10-14</td>\n",
       "      <td>2.02</td>\n",
       "      <td>1</td>\n",
       "      <td>343</td>\n",
       "      <td>16</td>\n",
       "      <td>R17000015609</td>\n",
       "    </tr>\n",
       "    <tr>\n",
       "      <th>1</th>\n",
       "      <td>7126</td>\n",
       "      <td>Tiny Studio Apartment 94 Walk Score</td>\n",
       "      <td>17928</td>\n",
       "      <td>Sarah</td>\n",
       "      <td>NaN</td>\n",
       "      <td>West Town</td>\n",
       "      <td>41.90166</td>\n",
       "      <td>-87.68021</td>\n",
       "      <td>Entire home/apt</td>\n",
       "      <td>81.0</td>\n",
       "      <td>2</td>\n",
       "      <td>569</td>\n",
       "      <td>2025-02-09</td>\n",
       "      <td>2.98</td>\n",
       "      <td>1</td>\n",
       "      <td>275</td>\n",
       "      <td>53</td>\n",
       "      <td>R24000114046</td>\n",
       "    </tr>\n",
       "    <tr>\n",
       "      <th>2</th>\n",
       "      <td>10945</td>\n",
       "      <td>The Biddle House (#1)</td>\n",
       "      <td>33004</td>\n",
       "      <td>At Home Inn</td>\n",
       "      <td>NaN</td>\n",
       "      <td>Lincoln Park</td>\n",
       "      <td>41.91196</td>\n",
       "      <td>-87.63981</td>\n",
       "      <td>Entire home/apt</td>\n",
       "      <td>187.0</td>\n",
       "      <td>4</td>\n",
       "      <td>117</td>\n",
       "      <td>2025-01-02</td>\n",
       "      <td>0.88</td>\n",
       "      <td>6</td>\n",
       "      <td>260</td>\n",
       "      <td>34</td>\n",
       "      <td>2209984</td>\n",
       "    </tr>\n",
       "    <tr>\n",
       "      <th>3</th>\n",
       "      <td>28749</td>\n",
       "      <td>Quirky Bucktown Loft w/ Parking No Parties</td>\n",
       "      <td>27506</td>\n",
       "      <td>Lauri</td>\n",
       "      <td>NaN</td>\n",
       "      <td>Logan Square</td>\n",
       "      <td>41.91955</td>\n",
       "      <td>-87.70069</td>\n",
       "      <td>Entire home/apt</td>\n",
       "      <td>196.0</td>\n",
       "      <td>2</td>\n",
       "      <td>244</td>\n",
       "      <td>2025-03-09</td>\n",
       "      <td>1.40</td>\n",
       "      <td>1</td>\n",
       "      <td>55</td>\n",
       "      <td>47</td>\n",
       "      <td>R24000113825</td>\n",
       "    </tr>\n",
       "    <tr>\n",
       "      <th>4</th>\n",
       "      <td>71930</td>\n",
       "      <td>Rest, Relax and Explore</td>\n",
       "      <td>334241</td>\n",
       "      <td>Michael And Veronica</td>\n",
       "      <td>NaN</td>\n",
       "      <td>West Town</td>\n",
       "      <td>41.89615</td>\n",
       "      <td>-87.67934</td>\n",
       "      <td>Private room</td>\n",
       "      <td>76.0</td>\n",
       "      <td>3</td>\n",
       "      <td>129</td>\n",
       "      <td>2024-11-26</td>\n",
       "      <td>0.77</td>\n",
       "      <td>1</td>\n",
       "      <td>0</td>\n",
       "      <td>19</td>\n",
       "      <td>R23000108832</td>\n",
       "    </tr>\n",
       "  </tbody>\n",
       "</table>\n",
       "</div>"
      ],
      "text/plain": [
       "      id                                        name  host_id  \\\n",
       "0   2384   Hyde Park - Walk to University of Chicago     2613   \n",
       "1   7126         Tiny Studio Apartment 94 Walk Score    17928   \n",
       "2  10945                       The Biddle House (#1)    33004   \n",
       "3  28749  Quirky Bucktown Loft w/ Parking No Parties    27506   \n",
       "4  71930                     Rest, Relax and Explore   334241   \n",
       "\n",
       "              host_name  neighbourhood_group neighbourhood  latitude  \\\n",
       "0               Rebecca                  NaN     Hyde Park  41.78790   \n",
       "1                 Sarah                  NaN     West Town  41.90166   \n",
       "2           At Home Inn                  NaN  Lincoln Park  41.91196   \n",
       "3                 Lauri                  NaN  Logan Square  41.91955   \n",
       "4  Michael And Veronica                  NaN     West Town  41.89615   \n",
       "\n",
       "   longitude        room_type  price  minimum_nights  number_of_reviews  \\\n",
       "0  -87.58780     Private room  125.0               3                250   \n",
       "1  -87.68021  Entire home/apt   81.0               2                569   \n",
       "2  -87.63981  Entire home/apt  187.0               4                117   \n",
       "3  -87.70069  Entire home/apt  196.0               2                244   \n",
       "4  -87.67934     Private room   76.0               3                129   \n",
       "\n",
       "  last_review  reviews_per_month  calculated_host_listings_count  \\\n",
       "0  2024-10-14               2.02                               1   \n",
       "1  2025-02-09               2.98                               1   \n",
       "2  2025-01-02               0.88                               6   \n",
       "3  2025-03-09               1.40                               1   \n",
       "4  2024-11-26               0.77                               1   \n",
       "\n",
       "   availability_365  number_of_reviews_ltm       license  \n",
       "0               343                     16  R17000015609  \n",
       "1               275                     53  R24000114046  \n",
       "2               260                     34       2209984  \n",
       "3                55                     47  R24000113825  \n",
       "4                 0                     19  R23000108832  "
      ]
     },
     "execution_count": 5,
     "metadata": {},
     "output_type": "execute_result"
    }
   ],
   "source": [
    "# Chicago Dataset First Look\n",
    "Chicago_df.head()"
   ]
  },
  {
   "cell_type": "markdown",
   "id": "2b87430e",
   "metadata": {},
   "source": [
    "### Dataset Rows & Columns count"
   ]
  },
  {
   "cell_type": "code",
   "execution_count": 6,
   "id": "03157a32",
   "metadata": {},
   "outputs": [
    {
     "data": {
      "text/plain": [
       "(7842, 18)"
      ]
     },
     "execution_count": 6,
     "metadata": {},
     "output_type": "execute_result"
    }
   ],
   "source": [
    "# New Orleans Dataset Rows & Columns count\n",
    "New_Orleans_df.shape"
   ]
  },
  {
   "cell_type": "code",
   "execution_count": 7,
   "id": "7d8bf376",
   "metadata": {},
   "outputs": [
    {
     "data": {
      "text/plain": [
       "(8748, 18)"
      ]
     },
     "execution_count": 7,
     "metadata": {},
     "output_type": "execute_result"
    }
   ],
   "source": [
    "# Chicago Dataset Rows & Columns count\n",
    "Chicago_df.shape"
   ]
  },
  {
   "cell_type": "markdown",
   "id": "79326be2",
   "metadata": {},
   "source": [
    "### Dataset Information"
   ]
  },
  {
   "cell_type": "code",
   "execution_count": 8,
   "id": "50c0a74d",
   "metadata": {},
   "outputs": [
    {
     "name": "stdout",
     "output_type": "stream",
     "text": [
      "<class 'pandas.core.frame.DataFrame'>\n",
      "RangeIndex: 7842 entries, 0 to 7841\n",
      "Data columns (total 18 columns):\n",
      " #   Column                          Non-Null Count  Dtype  \n",
      "---  ------                          --------------  -----  \n",
      " 0   id                              7842 non-null   int64  \n",
      " 1   name                            7842 non-null   object \n",
      " 2   host_id                         7842 non-null   int64  \n",
      " 3   host_name                       7829 non-null   object \n",
      " 4   neighbourhood_group             0 non-null      float64\n",
      " 5   neighbourhood                   7842 non-null   object \n",
      " 6   latitude                        7842 non-null   float64\n",
      " 7   longitude                       7842 non-null   float64\n",
      " 8   room_type                       7842 non-null   object \n",
      " 9   price                           6640 non-null   float64\n",
      " 10  minimum_nights                  7842 non-null   int64  \n",
      " 11  number_of_reviews               7842 non-null   int64  \n",
      " 12  last_review                     6514 non-null   object \n",
      " 13  reviews_per_month               6514 non-null   float64\n",
      " 14  calculated_host_listings_count  7842 non-null   int64  \n",
      " 15  availability_365                7842 non-null   int64  \n",
      " 16  number_of_reviews_ltm           7842 non-null   int64  \n",
      " 17  license                         6493 non-null   object \n",
      "dtypes: float64(5), int64(7), object(6)\n",
      "memory usage: 1.1+ MB\n"
     ]
    }
   ],
   "source": [
    "# New Orleans Dataset Info\n",
    "New_Orleans_df.info()"
   ]
  },
  {
   "cell_type": "code",
   "execution_count": 9,
   "id": "ee428480",
   "metadata": {},
   "outputs": [
    {
     "name": "stdout",
     "output_type": "stream",
     "text": [
      "<class 'pandas.core.frame.DataFrame'>\n",
      "RangeIndex: 8748 entries, 0 to 8747\n",
      "Data columns (total 18 columns):\n",
      " #   Column                          Non-Null Count  Dtype  \n",
      "---  ------                          --------------  -----  \n",
      " 0   id                              8748 non-null   int64  \n",
      " 1   name                            8748 non-null   object \n",
      " 2   host_id                         8748 non-null   int64  \n",
      " 3   host_name                       8748 non-null   object \n",
      " 4   neighbourhood_group             0 non-null      float64\n",
      " 5   neighbourhood                   8748 non-null   object \n",
      " 6   latitude                        8748 non-null   float64\n",
      " 7   longitude                       8748 non-null   float64\n",
      " 8   room_type                       8748 non-null   object \n",
      " 9   price                           7718 non-null   float64\n",
      " 10  minimum_nights                  8748 non-null   int64  \n",
      " 11  number_of_reviews               8748 non-null   int64  \n",
      " 12  last_review                     6870 non-null   object \n",
      " 13  reviews_per_month               6870 non-null   float64\n",
      " 14  calculated_host_listings_count  8748 non-null   int64  \n",
      " 15  availability_365                8748 non-null   int64  \n",
      " 16  number_of_reviews_ltm           8748 non-null   int64  \n",
      " 17  license                         6845 non-null   object \n",
      "dtypes: float64(5), int64(7), object(6)\n",
      "memory usage: 1.2+ MB\n"
     ]
    }
   ],
   "source": [
    "# Chicago Dataset Info\n",
    "Chicago_df.info()"
   ]
  },
  {
   "cell_type": "markdown",
   "id": "db0067ab",
   "metadata": {},
   "source": [
    "### Variables Description"
   ]
  },
  {
   "cell_type": "markdown",
   "id": "b35af685",
   "metadata": {},
   "source": [
    "**Key Attributes:**\n",
    "\n",
    "1. id: Unique identifier for each listing.\n",
    "\n",
    "2. name: The title or name of the listing.\n",
    "\n",
    "3. host_id: Unique identifier for the host of the property.\n",
    "\n",
    "4. host_name: Name of the host.\n",
    "\n",
    "5. neighbourhood_group: The broader area or group that the neighbourhood belongs to.\n",
    "\n",
    "6. neighbourhood: Specific neighbourhood where the property is located.\n",
    "\n",
    "7. latitude: Latitude coordinate of the property.\n",
    "\n",
    "8. longitude: Longitude coordinate of the property.\n",
    "\n",
    "9. room_type: Type of room (e.g., Private room, Entire home/apt, Shared room).\n",
    "\n",
    "10. price: Price of the listing per night.\n",
    "\n",
    "11. minimum_nights: Minimum number of nights required for booking.\n",
    "\n",
    "12. number_of_reviews: Total number of reviews received for the listing.\n",
    "\n",
    "13. last_review: Date of the last review.\n",
    "\n",
    "14. reviews_per_month: Average number of reviews per month.\n",
    "\n",
    "15. availability_365: Number of days the listing is available for booking in a year."
   ]
  },
  {
   "cell_type": "markdown",
   "id": "911b89e6",
   "metadata": {},
   "source": [
    "#### Combine both datasets"
   ]
  },
  {
   "cell_type": "code",
   "execution_count": 11,
   "id": "9da38f38",
   "metadata": {},
   "outputs": [],
   "source": [
    "combined_df = pd.concat([Chicago_df, New_Orleans_df], ignore_index=True)"
   ]
  },
  {
   "cell_type": "code",
   "execution_count": 12,
   "id": "0cc147f6",
   "metadata": {
    "scrolled": true
   },
   "outputs": [
    {
     "name": "stdout",
     "output_type": "stream",
     "text": [
      "<class 'pandas.core.frame.DataFrame'>\n",
      "RangeIndex: 16590 entries, 0 to 16589\n",
      "Data columns (total 18 columns):\n",
      " #   Column                          Non-Null Count  Dtype  \n",
      "---  ------                          --------------  -----  \n",
      " 0   id                              16590 non-null  int64  \n",
      " 1   name                            16590 non-null  object \n",
      " 2   host_id                         16590 non-null  int64  \n",
      " 3   host_name                       16577 non-null  object \n",
      " 4   neighbourhood_group             0 non-null      float64\n",
      " 5   neighbourhood                   16590 non-null  object \n",
      " 6   latitude                        16590 non-null  float64\n",
      " 7   longitude                       16590 non-null  float64\n",
      " 8   room_type                       16590 non-null  object \n",
      " 9   price                           14358 non-null  float64\n",
      " 10  minimum_nights                  16590 non-null  int64  \n",
      " 11  number_of_reviews               16590 non-null  int64  \n",
      " 12  last_review                     13384 non-null  object \n",
      " 13  reviews_per_month               13384 non-null  float64\n",
      " 14  calculated_host_listings_count  16590 non-null  int64  \n",
      " 15  availability_365                16590 non-null  int64  \n",
      " 16  number_of_reviews_ltm           16590 non-null  int64  \n",
      " 17  license                         13338 non-null  object \n",
      "dtypes: float64(5), int64(7), object(6)\n",
      "memory usage: 2.3+ MB\n"
     ]
    },
    {
     "data": {
      "text/html": [
       "<div>\n",
       "<style scoped>\n",
       "    .dataframe tbody tr th:only-of-type {\n",
       "        vertical-align: middle;\n",
       "    }\n",
       "\n",
       "    .dataframe tbody tr th {\n",
       "        vertical-align: top;\n",
       "    }\n",
       "\n",
       "    .dataframe thead th {\n",
       "        text-align: right;\n",
       "    }\n",
       "</style>\n",
       "<table border=\"1\" class=\"dataframe\">\n",
       "  <thead>\n",
       "    <tr style=\"text-align: right;\">\n",
       "      <th></th>\n",
       "      <th>id</th>\n",
       "      <th>name</th>\n",
       "      <th>host_id</th>\n",
       "      <th>host_name</th>\n",
       "      <th>neighbourhood_group</th>\n",
       "      <th>neighbourhood</th>\n",
       "      <th>latitude</th>\n",
       "      <th>longitude</th>\n",
       "      <th>room_type</th>\n",
       "      <th>price</th>\n",
       "      <th>minimum_nights</th>\n",
       "      <th>number_of_reviews</th>\n",
       "      <th>last_review</th>\n",
       "      <th>reviews_per_month</th>\n",
       "      <th>calculated_host_listings_count</th>\n",
       "      <th>availability_365</th>\n",
       "      <th>number_of_reviews_ltm</th>\n",
       "      <th>license</th>\n",
       "    </tr>\n",
       "  </thead>\n",
       "  <tbody>\n",
       "    <tr>\n",
       "      <th>0</th>\n",
       "      <td>2384</td>\n",
       "      <td>Hyde Park - Walk to University of Chicago</td>\n",
       "      <td>2613</td>\n",
       "      <td>Rebecca</td>\n",
       "      <td>NaN</td>\n",
       "      <td>Hyde Park</td>\n",
       "      <td>41.78790</td>\n",
       "      <td>-87.58780</td>\n",
       "      <td>Private room</td>\n",
       "      <td>125.0</td>\n",
       "      <td>3</td>\n",
       "      <td>250</td>\n",
       "      <td>2024-10-14</td>\n",
       "      <td>2.02</td>\n",
       "      <td>1</td>\n",
       "      <td>343</td>\n",
       "      <td>16</td>\n",
       "      <td>R17000015609</td>\n",
       "    </tr>\n",
       "    <tr>\n",
       "      <th>1</th>\n",
       "      <td>7126</td>\n",
       "      <td>Tiny Studio Apartment 94 Walk Score</td>\n",
       "      <td>17928</td>\n",
       "      <td>Sarah</td>\n",
       "      <td>NaN</td>\n",
       "      <td>West Town</td>\n",
       "      <td>41.90166</td>\n",
       "      <td>-87.68021</td>\n",
       "      <td>Entire home/apt</td>\n",
       "      <td>81.0</td>\n",
       "      <td>2</td>\n",
       "      <td>569</td>\n",
       "      <td>2025-02-09</td>\n",
       "      <td>2.98</td>\n",
       "      <td>1</td>\n",
       "      <td>275</td>\n",
       "      <td>53</td>\n",
       "      <td>R24000114046</td>\n",
       "    </tr>\n",
       "    <tr>\n",
       "      <th>2</th>\n",
       "      <td>10945</td>\n",
       "      <td>The Biddle House (#1)</td>\n",
       "      <td>33004</td>\n",
       "      <td>At Home Inn</td>\n",
       "      <td>NaN</td>\n",
       "      <td>Lincoln Park</td>\n",
       "      <td>41.91196</td>\n",
       "      <td>-87.63981</td>\n",
       "      <td>Entire home/apt</td>\n",
       "      <td>187.0</td>\n",
       "      <td>4</td>\n",
       "      <td>117</td>\n",
       "      <td>2025-01-02</td>\n",
       "      <td>0.88</td>\n",
       "      <td>6</td>\n",
       "      <td>260</td>\n",
       "      <td>34</td>\n",
       "      <td>2209984</td>\n",
       "    </tr>\n",
       "    <tr>\n",
       "      <th>3</th>\n",
       "      <td>28749</td>\n",
       "      <td>Quirky Bucktown Loft w/ Parking No Parties</td>\n",
       "      <td>27506</td>\n",
       "      <td>Lauri</td>\n",
       "      <td>NaN</td>\n",
       "      <td>Logan Square</td>\n",
       "      <td>41.91955</td>\n",
       "      <td>-87.70069</td>\n",
       "      <td>Entire home/apt</td>\n",
       "      <td>196.0</td>\n",
       "      <td>2</td>\n",
       "      <td>244</td>\n",
       "      <td>2025-03-09</td>\n",
       "      <td>1.40</td>\n",
       "      <td>1</td>\n",
       "      <td>55</td>\n",
       "      <td>47</td>\n",
       "      <td>R24000113825</td>\n",
       "    </tr>\n",
       "    <tr>\n",
       "      <th>4</th>\n",
       "      <td>71930</td>\n",
       "      <td>Rest, Relax and Explore</td>\n",
       "      <td>334241</td>\n",
       "      <td>Michael And Veronica</td>\n",
       "      <td>NaN</td>\n",
       "      <td>West Town</td>\n",
       "      <td>41.89615</td>\n",
       "      <td>-87.67934</td>\n",
       "      <td>Private room</td>\n",
       "      <td>76.0</td>\n",
       "      <td>3</td>\n",
       "      <td>129</td>\n",
       "      <td>2024-11-26</td>\n",
       "      <td>0.77</td>\n",
       "      <td>1</td>\n",
       "      <td>0</td>\n",
       "      <td>19</td>\n",
       "      <td>R23000108832</td>\n",
       "    </tr>\n",
       "  </tbody>\n",
       "</table>\n",
       "</div>"
      ],
      "text/plain": [
       "      id                                        name  host_id  \\\n",
       "0   2384   Hyde Park - Walk to University of Chicago     2613   \n",
       "1   7126         Tiny Studio Apartment 94 Walk Score    17928   \n",
       "2  10945                       The Biddle House (#1)    33004   \n",
       "3  28749  Quirky Bucktown Loft w/ Parking No Parties    27506   \n",
       "4  71930                     Rest, Relax and Explore   334241   \n",
       "\n",
       "              host_name  neighbourhood_group neighbourhood  latitude  \\\n",
       "0               Rebecca                  NaN     Hyde Park  41.78790   \n",
       "1                 Sarah                  NaN     West Town  41.90166   \n",
       "2           At Home Inn                  NaN  Lincoln Park  41.91196   \n",
       "3                 Lauri                  NaN  Logan Square  41.91955   \n",
       "4  Michael And Veronica                  NaN     West Town  41.89615   \n",
       "\n",
       "   longitude        room_type  price  minimum_nights  number_of_reviews  \\\n",
       "0  -87.58780     Private room  125.0               3                250   \n",
       "1  -87.68021  Entire home/apt   81.0               2                569   \n",
       "2  -87.63981  Entire home/apt  187.0               4                117   \n",
       "3  -87.70069  Entire home/apt  196.0               2                244   \n",
       "4  -87.67934     Private room   76.0               3                129   \n",
       "\n",
       "  last_review  reviews_per_month  calculated_host_listings_count  \\\n",
       "0  2024-10-14               2.02                               1   \n",
       "1  2025-02-09               2.98                               1   \n",
       "2  2025-01-02               0.88                               6   \n",
       "3  2025-03-09               1.40                               1   \n",
       "4  2024-11-26               0.77                               1   \n",
       "\n",
       "   availability_365  number_of_reviews_ltm       license  \n",
       "0               343                     16  R17000015609  \n",
       "1               275                     53  R24000114046  \n",
       "2               260                     34       2209984  \n",
       "3                55                     47  R24000113825  \n",
       "4                 0                     19  R23000108832  "
      ]
     },
     "execution_count": 12,
     "metadata": {},
     "output_type": "execute_result"
    }
   ],
   "source": [
    "# Quick inspection\n",
    "combined_df.info()\n",
    "combined_df.describe(include='all')\n",
    "combined_df.head()"
   ]
  },
  {
   "cell_type": "code",
   "execution_count": 21,
   "id": "628e9551",
   "metadata": {},
   "outputs": [
    {
     "data": {
      "text/plain": [
       "(14358, 18)"
      ]
     },
     "execution_count": 21,
     "metadata": {},
     "output_type": "execute_result"
    }
   ],
   "source": [
    "# Updated Dataset Shape\n",
    "combined_df.shape"
   ]
  },
  {
   "cell_type": "markdown",
   "id": "32d7aaea",
   "metadata": {},
   "source": [
    "## **2. Data Cleaning**"
   ]
  },
  {
   "cell_type": "markdown",
   "id": "36ed6c0a",
   "metadata": {},
   "source": [
    "### Drop duplicates"
   ]
  },
  {
   "cell_type": "code",
   "execution_count": 13,
   "id": "6a925bf4",
   "metadata": {},
   "outputs": [],
   "source": [
    "# Drop duplicate rows\n",
    "combined_df.drop_duplicates(inplace=True)"
   ]
  },
  {
   "cell_type": "markdown",
   "id": "0aaeeef6",
   "metadata": {},
   "source": [
    "### Handle Missing Values"
   ]
  },
  {
   "cell_type": "code",
   "execution_count": 14,
   "id": "2221a1f3",
   "metadata": {},
   "outputs": [],
   "source": [
    "# Handle missing values in key columns\n",
    "combined_df = combined_df.dropna(subset=[\"name\", \"host_id\", \"price\", \"room_type\", \"neighbourhood\"])"
   ]
  },
  {
   "cell_type": "code",
   "execution_count": 15,
   "id": "30e99021",
   "metadata": {},
   "outputs": [],
   "source": [
    "# Clean price field\n",
    "combined_df[\"price\"] = combined_df[\"price\"].replace('[\\$,]', '', regex=True).astype(float)"
   ]
  },
  {
   "cell_type": "code",
   "execution_count": 18,
   "id": "806682b0",
   "metadata": {},
   "outputs": [
    {
     "data": {
      "text/plain": [
       "id                                    0\n",
       "name                                  0\n",
       "host_id                               0\n",
       "host_name                             9\n",
       "neighbourhood_group               14358\n",
       "neighbourhood                         0\n",
       "latitude                              0\n",
       "longitude                             0\n",
       "room_type                             0\n",
       "price                                 0\n",
       "minimum_nights                        0\n",
       "number_of_reviews                     0\n",
       "last_review                        2662\n",
       "reviews_per_month                  2662\n",
       "calculated_host_listings_count        0\n",
       "availability_365                      0\n",
       "number_of_reviews_ltm                 0\n",
       "license                            2590\n",
       "dtype: int64"
      ]
     },
     "execution_count": 18,
     "metadata": {},
     "output_type": "execute_result"
    }
   ],
   "source": [
    "# Updated null values count\n",
    "combined_df.isna().sum()"
   ]
  },
  {
   "cell_type": "markdown",
   "id": "2bf0ca65",
   "metadata": {},
   "source": [
    "### What did you know about your dataset?"
   ]
  },
  {
   "cell_type": "markdown",
   "id": "a6e05056",
   "metadata": {},
   "source": [
    "The Airbnb Listings Data contains information about different properties available for rent on Airbnb in a specific city. Each record represents a unique listing and includes attributes such as property type, neighbourhood, number of bedrooms, pricing, availability, host information, and more.\n",
    "\n",
    "There are no duplicate rows in our dataset.\n",
    "\n",
    "The last_review and reviews_per_month column may have null values because of 0 number_of_reviews for that listing, hence the listing having 0 reviews don't have last review or reviews per month value.\n",
    "\n",
    "Last_review was in object datatype, while should be in datetime dtype"
   ]
  },
  {
   "cell_type": "markdown",
   "id": "18f0e77b",
   "metadata": {},
   "source": [
    "### Standardize data formats"
   ]
  },
  {
   "cell_type": "code",
   "execution_count": 16,
   "id": "8385c90a",
   "metadata": {},
   "outputs": [],
   "source": [
    "# Standardize date columns\n",
    "combined_df[\"last_review\"] = pd.to_datetime(combined_df[\"last_review\"], errors='coerce')\n"
   ]
  },
  {
   "cell_type": "code",
   "execution_count": 17,
   "id": "4fdf3c35",
   "metadata": {},
   "outputs": [],
   "source": [
    "# Standardize text columns (trim & lowercase)\n",
    "combined_df[\"neighbourhood\"] = combined_df[\"neighbourhood\"].str.strip().str.lower()\n",
    "combined_df[\"room_type\"] = combined_df[\"room_type\"].str.title()"
   ]
  },
  {
   "cell_type": "code",
   "execution_count": 19,
   "id": "2ae5801b",
   "metadata": {},
   "outputs": [],
   "source": [
    "# Replacing null values that are in column last_review and reviews_per_month column\n",
    "combined_df.fillna(0, inplace = True)"
   ]
  },
  {
   "cell_type": "code",
   "execution_count": 20,
   "id": "64611305",
   "metadata": {},
   "outputs": [
    {
     "data": {
      "text/plain": [
       "id                                0\n",
       "name                              0\n",
       "host_id                           0\n",
       "host_name                         0\n",
       "neighbourhood_group               0\n",
       "neighbourhood                     0\n",
       "latitude                          0\n",
       "longitude                         0\n",
       "room_type                         0\n",
       "price                             0\n",
       "minimum_nights                    0\n",
       "number_of_reviews                 0\n",
       "last_review                       0\n",
       "reviews_per_month                 0\n",
       "calculated_host_listings_count    0\n",
       "availability_365                  0\n",
       "number_of_reviews_ltm             0\n",
       "license                           0\n",
       "dtype: int64"
      ]
     },
     "execution_count": 20,
     "metadata": {},
     "output_type": "execute_result"
    }
   ],
   "source": [
    "# Updated null values count\n",
    "combined_df.isna().sum()"
   ]
  },
  {
   "cell_type": "markdown",
   "id": "77c17fff",
   "metadata": {},
   "source": [
    "## **3.Data Transformation**"
   ]
  },
  {
   "cell_type": "markdown",
   "id": "2c579369",
   "metadata": {},
   "source": [
    "### Create derived columns"
   ]
  },
  {
   "cell_type": "code",
   "execution_count": 22,
   "id": "b7f1e538",
   "metadata": {},
   "outputs": [],
   "source": [
    "# Revenue estimate\n",
    "combined_df[\"estimated_revenue\"] = combined_df[\"price\"] * combined_df[\"availability_365\"]"
   ]
  },
  {
   "cell_type": "code",
   "execution_count": 23,
   "id": "82c24fa7",
   "metadata": {},
   "outputs": [],
   "source": [
    "# Categorize price range\n",
    "combined_df[\"price_category\"] = pd.cut(combined_df[\"price\"],\n",
    "                                       bins=[0, 75, 150, 300, 10000],\n",
    "                                       labels=[\"Low\", \"Medium\", \"High\", \"Luxury\"])"
   ]
  },
  {
   "cell_type": "code",
   "execution_count": 24,
   "id": "a87c32ab",
   "metadata": {},
   "outputs": [],
   "source": [
    "# Simplify host response time (if present)\n",
    "if \"host_response_time\" in combined_df.columns:\n",
    "    combined_df[\"host_response_time\"] = combined_df[\"host_response_time\"].str.lower().str.replace(\"_\", \" \")"
   ]
  },
  {
   "cell_type": "markdown",
   "id": "4a14ec07",
   "metadata": {},
   "source": [
    "### Split complex fields"
   ]
  },
  {
   "cell_type": "code",
   "execution_count": 25,
   "id": "0c0c3a48",
   "metadata": {},
   "outputs": [],
   "source": [
    "# If there's a description or amenities column\n",
    "if \"amenities\" in combined_df.columns:\n",
    "    combined_df[\"amenities_count\"] = combined_df[\"amenities\"].str.count(\",\") + 1"
   ]
  },
  {
   "cell_type": "markdown",
   "id": "f2aa9a09",
   "metadata": {},
   "source": [
    "## **4.Export Cleaned Data**"
   ]
  },
  {
   "cell_type": "code",
   "execution_count": 26,
   "id": "ef2301ad",
   "metadata": {},
   "outputs": [],
   "source": [
    "combined_df.to_csv(\"cleaned_airbnb_data.csv\", index=False)"
   ]
  },
  {
   "cell_type": "markdown",
   "id": "c1e32f6b",
   "metadata": {},
   "source": [
    "### What all manipulations have you done and insights you found?"
   ]
  },
  {
   "cell_type": "markdown",
   "id": "5f54dcbc",
   "metadata": {},
   "source": [
    "Appended the datasets on top of one another.\n",
    "\n",
    "Some columns have been removed from the dataset.\n",
    "\n",
    "Null values present in price column removed.\n",
    "\n",
    "Null values in last_review and reviews per month replaced with zero.\n",
    "\n",
    "Appended dataset combine_df have been saved named as cleaned_airbnb_data in a csv format and is ready for transformation and analysis in Power BI Prep."
   ]
  },
  {
   "cell_type": "code",
   "execution_count": null,
   "id": "7c1afab3",
   "metadata": {},
   "outputs": [],
   "source": []
  }
 ],
 "metadata": {
  "kernelspec": {
   "display_name": "Python 3",
   "language": "python",
   "name": "python3"
  },
  "language_info": {
   "codemirror_mode": {
    "name": "ipython",
    "version": 3
   },
   "file_extension": ".py",
   "mimetype": "text/x-python",
   "name": "python",
   "nbconvert_exporter": "python",
   "pygments_lexer": "ipython3",
   "version": "3.8.8"
  }
 },
 "nbformat": 4,
 "nbformat_minor": 5
}
